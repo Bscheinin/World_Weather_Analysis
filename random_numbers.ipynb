{
 "cells": [
  {
   "cell_type": "code",
   "execution_count": 36,
   "id": "95cadb29",
   "metadata": {},
   "outputs": [],
   "source": [
    "# Import the random module.\n",
    "import random\n",
    "import numpy as np\n",
    "import timeit"
   ]
  },
  {
   "cell_type": "code",
   "execution_count": 37,
   "id": "d3d69b64",
   "metadata": {},
   "outputs": [
    {
     "data": {
      "text/plain": [
       "11"
      ]
     },
     "execution_count": 37,
     "metadata": {},
     "output_type": "execute_result"
    }
   ],
   "source": [
    "random.randint(-90,90)"
   ]
  },
  {
   "cell_type": "code",
   "execution_count": 38,
   "id": "f713211c",
   "metadata": {},
   "outputs": [
    {
     "data": {
      "text/plain": [
       "0.6776279202832173"
      ]
     },
     "execution_count": 38,
     "metadata": {},
     "output_type": "execute_result"
    }
   ],
   "source": [
    "random.random()"
   ]
  },
  {
   "cell_type": "code",
   "execution_count": 39,
   "id": "770cb43f",
   "metadata": {},
   "outputs": [
    {
     "data": {
      "text/plain": [
       "59.9972085519849"
      ]
     },
     "execution_count": 39,
     "metadata": {},
     "output_type": "execute_result"
    }
   ],
   "source": [
    "random_number = random.randint(-90,89)+random.random()\n",
    "random_number"
   ]
  },
  {
   "cell_type": "code",
   "execution_count": 40,
   "id": "ed1b9bca",
   "metadata": {},
   "outputs": [
    {
     "data": {
      "text/plain": [
       "[-64.89077495450174,\n",
       " -68.87924452702693,\n",
       " -58.582984070368525,\n",
       " -54.29998310805003,\n",
       " -28.221714671750494,\n",
       " -76.17905065478858,\n",
       " -23.406103248022017,\n",
       " -44.37326111536065,\n",
       " -86.04663268628326,\n",
       " 83.63622528425559]"
      ]
     },
     "execution_count": 40,
     "metadata": {},
     "output_type": "execute_result"
    }
   ],
   "source": [
    "x = 1\n",
    "latitudes = []\n",
    "while x < 11:\n",
    "    random_lat = random.randint(-90, 89) + random.random()\n",
    "    latitudes.append(random_lat)\n",
    "    x += 1\n",
    "latitudes"
   ]
  },
  {
   "cell_type": "code",
   "execution_count": 41,
   "id": "752cbe8b",
   "metadata": {},
   "outputs": [
    {
     "data": {
      "text/plain": [
       "-63"
      ]
     },
     "execution_count": 41,
     "metadata": {},
     "output_type": "execute_result"
    }
   ],
   "source": [
    "random.randrange(-90, 90, step=3)"
   ]
  },
  {
   "cell_type": "code",
   "execution_count": 42,
   "id": "b0ecc632",
   "metadata": {},
   "outputs": [
    {
     "data": {
      "text/plain": [
       "[-14.623157496044762,\n",
       " 84.93883114589993,\n",
       " -44.35045411238054,\n",
       " 87.5283535240381,\n",
       " 12.750453421950857,\n",
       " 39.06376345309722,\n",
       " -89.77574218324682,\n",
       " 6.14746550978849,\n",
       " 27.42311045839759,\n",
       " 87.64147693222463]"
      ]
     },
     "execution_count": 42,
     "metadata": {},
     "output_type": "execute_result"
    }
   ],
   "source": [
    "x = 1\n",
    "latitudes = []\n",
    "while x < 11:\n",
    "    random_lat = random.randrange(-90, 89, step=3) + random.random()\n",
    "    latitudes.append(random_lat)\n",
    "    x += 1\n",
    "latitudes"
   ]
  },
  {
   "cell_type": "code",
   "execution_count": 43,
   "id": "8b6cea2f",
   "metadata": {},
   "outputs": [
    {
     "data": {
      "text/plain": [
       "19.644941661816276"
      ]
     },
     "execution_count": 43,
     "metadata": {},
     "output_type": "execute_result"
    }
   ],
   "source": [
    "random.uniform(-90, 90)"
   ]
  },
  {
   "cell_type": "code",
   "execution_count": 44,
   "id": "8e064cad",
   "metadata": {},
   "outputs": [
    {
     "data": {
      "text/plain": [
       "array([-46.60841545,  86.81604108, -42.41790408,  68.57574901,\n",
       "        36.21374566, -23.50208609, -44.5328499 ,  32.89567679,\n",
       "        25.65640369, -84.0163245 ,  75.53852116, -29.98962962,\n",
       "        26.16964762, -37.03176334, -40.95018379, -55.49451847,\n",
       "        68.439797  ,  43.34859428,  20.59122387,  20.40106422,\n",
       "       -12.22888753,  -2.24651835,  62.11087638, -13.33109692,\n",
       "        -2.12767576, -26.02645744, -50.82316742, -32.18348662,\n",
       "        21.5029097 , -32.7072976 , -73.58188433, -16.53453388,\n",
       "         0.83892577, -32.82159107,   1.80108651,  37.95682371,\n",
       "       -17.56080604,  64.46625314,  77.04068205, -86.65028993,\n",
       "        86.33937179,  55.90182645, -18.82694365, -37.45830619,\n",
       "        54.67708106, -65.29837068,  77.49995498, -36.59516774,\n",
       "       -19.65217658, -79.17911405])"
      ]
     },
     "execution_count": 44,
     "metadata": {},
     "output_type": "execute_result"
    }
   ],
   "source": [
    "np.random.uniform(-90.000, 90.000, size=50)"
   ]
  },
  {
   "cell_type": "code",
   "execution_count": 46,
   "id": "df6cc8f1",
   "metadata": {},
   "outputs": [
    {
     "name": "stdout",
     "output_type": "stream",
     "text": [
      "13.1 µs ± 196 ns per loop (mean ± std. dev. of 7 runs, 100000 loops each)\n"
     ]
    }
   ],
   "source": [
    "%timeit np.random.uniform(-90.000, 90.000, size=1500)"
   ]
  },
  {
   "cell_type": "code",
   "execution_count": 47,
   "id": "9c1ff045",
   "metadata": {},
   "outputs": [
    {
     "name": "stdout",
     "output_type": "stream",
     "text": [
      "1.62 ms ± 15.8 µs per loop (mean ± std. dev. of 7 runs, 1000 loops each)\n"
     ]
    }
   ],
   "source": [
    "def latitudes(size):\n",
    "    latitudes = []\n",
    "    x = 0\n",
    "    while x < (size):\n",
    "        random_lat = random.randint(-90, 90) + random.random()\n",
    "        latitudes.append(random_lat)\n",
    "        x += 1\n",
    "    return latitudes\n",
    "# Call the function with 1500.\n",
    "%timeit latitudes(1500)"
   ]
  },
  {
   "cell_type": "code",
   "execution_count": null,
   "id": "cd7ccc45",
   "metadata": {},
   "outputs": [],
   "source": []
  }
 ],
 "metadata": {
  "kernelspec": {
   "display_name": "PythonData",
   "language": "python",
   "name": "pythondata"
  },
  "language_info": {
   "codemirror_mode": {
    "name": "ipython",
    "version": 3
   },
   "file_extension": ".py",
   "mimetype": "text/x-python",
   "name": "python",
   "nbconvert_exporter": "python",
   "pygments_lexer": "ipython3",
   "version": "3.7.11"
  }
 },
 "nbformat": 4,
 "nbformat_minor": 5
}
